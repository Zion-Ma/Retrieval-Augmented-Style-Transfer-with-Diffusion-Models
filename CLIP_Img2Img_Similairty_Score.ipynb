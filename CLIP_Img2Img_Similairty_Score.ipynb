{
 "cells": [
  {
   "cell_type": "code",
   "execution_count": null,
   "metadata": {
    "id": "js6HtrEVFIUt"
   },
   "outputs": [],
   "source": [
    "# Mount Google Drive\n",
    "from google.colab import drive\n",
    "drive.mount('/content/drive')"
   ]
  },
  {
   "cell_type": "code",
   "execution_count": null,
   "metadata": {
    "colab": {
     "base_uri": "https://localhost:8080/"
    },
    "id": "aReXepKvFIIA",
    "outputId": "d618da34-2edb-4149-f135-145d60fc1564"
   },
   "outputs": [],
   "source": [
    "from PIL import Image\n",
    "from transformers import AutoProcessor, CLIPVisionModel\n",
    "import glob\n",
    "import numpy as np\n",
    "import torch\n",
    "\n",
    "# Initialize the model and processor\n",
    "model = CLIPVisionModel.from_pretrained(\"openai/clip-vit-base-patch32\")\n",
    "processor = AutoProcessor.from_pretrained(\"openai/clip-vit-base-patch32\")\n",
    "\n",
    "\n",
    "\n",
    "# Paths to the Google Drive folders\n",
    "# folder1 = \"./retrieved_images8\"\n",
    "# folder1 = \"./retrieved_images9\"\n",
    "folder1 = \"./retrieved_images1002\"\n",
    "\n",
    "\n",
    "# folder2 = \"./Adapter1_generated_images8\"\n",
    "# folder2 = \"./Adapter1_generated_images9\"\n",
    "# folder2 = \"./Adapter1_generated_images1002\"\n",
    "\n",
    "# folder2 = \"./DB1_generated_images8\"\n",
    "# folder2 = \"./DB1_generated_images9\"\n",
    "# folder2 = \"./DB1_generated_images1002\"\n",
    "\n",
    "\n",
    "# folder2 = \"./Adapter3_generated_images8\"\n",
    "# folder2 = \"./Adapter3_generated_images9\"\n",
    "# folder2 = \"./Adapter3_generated_images1002\"\n",
    "\n",
    "# folder2 = \"./t8_new\"\n",
    "# folder2 = \"./t9_new\"\n",
    "folder2 = \"./t1002_new\"\n",
    "\n",
    "\n",
    "\n",
    "\n",
    "# Load image paths\n",
    "images_folder1 = glob.glob(f\"{folder1}/*.png\")  # Adjust extension if needed\n",
    "images_folder2 = glob.glob(f\"{folder2}/*.jpg\") #or png\n",
    "\n",
    "# Ensure we have images\n",
    "if len(images_folder1) == 0 or len(images_folder2) == 0:\n",
    "    raise ValueError(\"One of the folders is empty. Please check the paths.\")\n",
    "\n",
    "# Compute pairwise cosine similarities\n",
    "pairwise_similarities = []\n",
    "\n",
    "for img1_path in images_folder1:\n",
    "    image1 = Image.open(img1_path).convert(\"RGB\")\n",
    "    inputs1 = processor(images=image1, return_tensors=\"pt\")\n",
    "    outputs1 = model(**inputs1)\n",
    "    pooled_output1 = outputs1.pooler_output.detach().numpy()[0]\n",
    "\n",
    "    for img2_path in images_folder2:\n",
    "        image2 = Image.open(img2_path).convert(\"RGB\")\n",
    "        inputs2 = processor(images=image2, return_tensors=\"pt\")\n",
    "        outputs2 = model(**inputs2)\n",
    "        pooled_output2 = outputs2.pooler_output.detach().numpy()[0]\n",
    "\n",
    "        # Compute cosine similarity\n",
    "        dot_product = np.dot(pooled_output1, pooled_output2)\n",
    "        magnitude1 = np.linalg.norm(pooled_output1)\n",
    "        magnitude2 = np.linalg.norm(pooled_output2)\n",
    "\n",
    "        cosine_sim = dot_product / (magnitude1 * magnitude2)\n",
    "        pairwise_similarities.append(cosine_sim)\n",
    "\n",
    "# Calculate the sum and mean of cosine similarities\n",
    "sum_similarity = np.sum(pairwise_similarities)\n",
    "mean_similarity = np.mean(pairwise_similarities)\n",
    "\n",
    "# Store and print results\n",
    "print(folder1)\n",
    "print(folder2)\n",
    "print(\"Pairwise Similarities:\", pairwise_similarities)\n",
    "print(f\"Sum of Similarities: {sum_similarity}\")\n",
    "print(f\"Mean of Similarities: {mean_similarity}\")\n"
   ]
  }
 ],
 "metadata": {
  "colab": {
   "provenance": []
  },
  "kernelspec": {
   "display_name": "Python 3",
   "name": "python3"
  },
  "language_info": {
   "name": "python"
  }
 },
 "nbformat": 4,
 "nbformat_minor": 0
}
